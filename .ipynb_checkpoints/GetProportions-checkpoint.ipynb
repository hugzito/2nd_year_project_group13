{
 "cells": [
  {
   "cell_type": "code",
   "execution_count": 35,
   "id": "33f7341a",
   "metadata": {},
   "outputs": [],
   "source": [
    "import pandas as pd\n",
    "import glob\n",
    "import os \n",
    "import random"
   ]
  },
  {
   "cell_type": "code",
   "execution_count": 38,
   "id": "e4fee047",
   "metadata": {},
   "outputs": [],
   "source": [
    "imdb_file = \"C:\\\\Users\\\\Anastasia\\\\Desktop\\\\2nd_year_project_group13\\\\own_data\\\\Cleaned_data\\\\imdb.csv\"\n",
    "p = 0.2   #percentage of data to be imported\n",
    "# read csv file\n",
    "imdb = pd.read_csv(filename,\n",
    "                 low_memory=False,\n",
    "                 header=0,\n",
    "                 skiprows=lambda i: i>0 and random.random() > p\n",
    "                )\n",
    "imdb.to_csv(r'C:\\\\Users\\\\Anastasia\\\\Desktop\\\\2nd_year_project_group13\\\\own_data\\\\Cleaned_data\\\\imdb20.csv', index = False)"
   ]
  },
  {
   "cell_type": "code",
   "execution_count": 39,
   "id": "1ad38bc3",
   "metadata": {},
   "outputs": [],
   "source": [
    "reddit_file = \"C:\\\\Users\\\\Anastasia\\\\Desktop\\\\2nd_year_project_group13\\\\own_data\\\\Cleaned_data\\\\imdb.csv\"\n",
    "p = 0.3   #percentage of data to be imported\n",
    "# read csv file\n",
    "reddit = pd.read_csv(filename,\n",
    "                 low_memory=False,\n",
    "                 header=0,\n",
    "                 skiprows=lambda i: i>0 and random.random() > p\n",
    "                )\n",
    "reddit.to_csv(r'C:\\\\Users\\\\Anastasia\\\\Desktop\\\\2nd_year_project_group13\\\\own_data\\\\Cleaned_data\\\\reddit30.csv', index = False)"
   ]
  },
  {
   "cell_type": "code",
   "execution_count": 40,
   "id": "56e8a1f7",
   "metadata": {},
   "outputs": [],
   "source": [
    "twitter_file = \"C:\\\\Users\\\\Anastasia\\\\Desktop\\\\2nd_year_project_group13\\\\own_data\\\\Cleaned_data\\\\imdb.csv\"\n",
    "p = 0.5   #percentage of data to be imported\n",
    "# read csv file\n",
    "twitter = pd.read_csv(filename,\n",
    "                 low_memory=False,\n",
    "                 header=0,\n",
    "                 skiprows=lambda i: i>0 and random.random() > p\n",
    "                )\n",
    "twitter.to_csv(r'C:\\\\Users\\\\Anastasia\\\\Desktop\\\\2nd_year_project_group13\\\\own_data\\\\Cleaned_data\\\\twitter50.csv', index = False)"
   ]
  },
  {
   "cell_type": "code",
   "execution_count": 41,
   "id": "9cf5cad4",
   "metadata": {},
   "outputs": [
    {
     "name": "stdout",
     "output_type": "stream",
     "text": [
      "Resultant CSV after joining all CSV files at a particular location...\n",
      "40084\n"
     ]
    }
   ],
   "source": [
    "# setting the path for joining multiple files\n",
    "files = os.path.join(\"C:\\\\Users\\\\Anastasia\\\\Desktop\\\\2nd_year_project_group13\\\\own_data\\\\Cleaned_data\\\\\", \"*0.csv\")\n",
    "\n",
    "# list of merged files returned\n",
    "files = glob.glob(files)\n",
    "\n",
    "print(\"Resultant CSV after joining all CSV files at a particular location...\");\n",
    "\n",
    "# joining files with concat and read_csv\n",
    "df = pd.concat(map(pd.read_csv, files), ignore_index=True)\n",
    "\n",
    "\n",
    "#coverting the df to csv file\n",
    "df.to_csv(r'C:\\\\Users\\\\Anastasia\\\\Desktop\\\\2nd_year_project_group13\\\\own_data\\\\Cleaned_data\\\\imdb20_reddit30_twitter50.csv', index = False)"
   ]
  },
  {
   "cell_type": "code",
   "execution_count": null,
   "id": "8a42e2bb",
   "metadata": {},
   "outputs": [],
   "source": []
  }
 ],
 "metadata": {
  "kernelspec": {
   "display_name": "Python 3 (ipykernel)",
   "language": "python",
   "name": "python3"
  },
  "language_info": {
   "codemirror_mode": {
    "name": "ipython",
    "version": 3
   },
   "file_extension": ".py",
   "mimetype": "text/x-python",
   "name": "python",
   "nbconvert_exporter": "python",
   "pygments_lexer": "ipython3",
   "version": "3.8.13"
  }
 },
 "nbformat": 4,
 "nbformat_minor": 5
}
