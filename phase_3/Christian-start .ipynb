{
 "cells": [
  {
   "cell_type": "markdown",
   "metadata": {},
   "source": [
    "# Notebook for experimenting and trying to improve model\n",
    "\n",
    "### Considerations to improve \n",
    "- Stopwords \n",
    "- Word2vec\n",
    "- bigger n-grams \n",
    "- bert? \n",
    "- max words"
   ]
  },
  {
   "cell_type": "code",
   "execution_count": 20,
   "metadata": {},
   "outputs": [],
   "source": [
    "import gzip\n",
    "import json\n",
    "import torch \n",
    "import torch.nn as nn\n",
    "from nltk.tokenize import TweetTokenizer\n",
    "from sklearn.linear_model import LogisticRegression\n",
    "import numpy as np\n",
    "from sklearn.metrics import classification_report\n",
    "import tensorflow as tf\n",
    "import torch.optim as optim"
   ]
  },
  {
   "cell_type": "code",
   "execution_count": 2,
   "metadata": {},
   "outputs": [],
   "source": [
    "def build_vocab(filepath, padding = False):\n",
    "    train_vocab = {}\n",
    "    train = gzip.open(filepath)\n",
    "    counter1 = 0\n",
    "    counter2 = 0\n",
    "    counter3 = 0\n",
    "    counter = 0\n",
    "    if padding: \n",
    "        train_vocab['<PAD>'] = 0\n",
    "        counter2 += 1\n",
    "    no_reviewText = []\n",
    "    labels = {}\n",
    "    sentences = {}\n",
    "    tokenizer = TweetTokenizer()\n",
    "    for line in train:\n",
    "        counter1 +=1\n",
    "        #print(line)\n",
    "        if 'reviewText' in json.loads(line).keys():\n",
    "            a = json.loads(line)\n",
    "            sentences[counter3] = a['reviewText']\n",
    "            counter3 += 1\n",
    "            if a['sentiment'] == 'positive':\n",
    "                labels[counter] = 1\n",
    "            elif a['sentiment'] == 'negative': \n",
    "                labels[counter] = 0\n",
    "            counter +=1\n",
    "            for word in tokenizer.tokenize(json.loads(line)['reviewText']):\n",
    "                if word not in train_vocab.keys():\n",
    "                    train_vocab[word] = counter2\n",
    "                    counter2 += 1\n",
    "        else:\n",
    "            no_reviewText.append(counter1)\n",
    "    final_dict = {'line_count' : counter1,\n",
    "                 'review_count' : counter3,\n",
    "                 'vocab_size' : counter2,\n",
    "                 'no_text_reviews' : no_reviewText,\n",
    "                 'labels' : labels,\n",
    "                 'vocabulary' : train_vocab,\n",
    "                 'sentences' : sentences}\n",
    "    return final_dict\n",
    "\n",
    "def sen_vectorizer(filepath, cutoff = False): \n",
    "    vocab, index = {}, 1\n",
    "    data = gzip.open(filepath)\n",
    "    vocab['<PAD>'] = 0\n",
    "    counter1 = 0\n",
    "    counter2 = 0\n",
    "    counter3 = 0\n",
    "    counter = 0\n",
    "    no_reviewText = []\n",
    "    sentences = {}\n",
    "    tokenizer = TweetTokenizer()\n",
    "    labels = {}\n",
    "    for line in data:\n",
    "        counter1 +=1\n",
    "        #print(line)\n",
    "        if 'reviewText' in json.loads(line).keys():\n",
    "            a = json.loads(line)\n",
    "            b = tokenizer.tokenize(a['reviewText'])\n",
    "            if cutoff: \n",
    "                b = b[:cutoff]\n",
    "            sentences[counter3] = b\n",
    "            counter3 += 1\n",
    "            if a['sentiment'] == 'positive':\n",
    "                labels[counter] = 1\n",
    "            elif a['sentiment'] == 'negative': \n",
    "                labels[counter] = 0\n",
    "            counter +=1\n",
    "            for word in b:\n",
    "                if word not in vocab.keys():\n",
    "                    vocab[word] = index\n",
    "                    index += 1\n",
    "        else:\n",
    "            no_reviewText.append(counter1)\n",
    "    inverse_vocab = {index: token for token, index in vocab.items()}\n",
    "    final_dict = {'line_count' : counter1,\n",
    "                 'review_count' : counter3,\n",
    "                 'vocab_size' : counter2,\n",
    "                 'no_text_reviews' : no_reviewText,\n",
    "                 'labels' : labels,\n",
    "                 'vocabulary' : vocab,\n",
    "                 'sentences' : sentences,\n",
    "                 'inverse_vocab' : inverse_vocab}\n",
    "    return final_dict\n",
    "    \n",
    "def create_onehot(vocab, sentences, tokenzier):\n",
    "    # Create matrix\n",
    "    m1 = torch.zeros(len(sentences), len(vocab))\n",
    "    # Correct indices\n",
    "    for sen in range(len(sentences)): \n",
    "        for word in sentences[sen]: \n",
    "            if word in vocab.keys():\n",
    "                m1[sen, vocab[word]] = 1\n",
    "    return m1\n",
    "\n",
    "def create_batches(matrix, batch_size,labels): \n",
    "    num_batches = int(len(matrix)/batch_size)\n",
    "    feats_batches = matrix[:batch_size*num_batches].view(num_batches,batch_size, matrix.shape[1])\n",
    "    bingus = labels\n",
    "    num_batches = int(len(bingus)/batch_size)\n",
    "    label_batches = bingus[:batch_size*num_batches].view(num_batches,batch_size,1)\n",
    "    return feats_batches, label_batches\n",
    "\n",
    "paths = {'train':'../classification/music_reviews_train.json.gz',\n",
    "        'test':'../classification/music_reviews_test_masked.json.gz',\n",
    "        'dev' : '../classification/music_reviews_dev.json.gz'}\n"
   ]
  },
  {
   "cell_type": "code",
   "execution_count": 3,
   "metadata": {},
   "outputs": [],
   "source": [
    "# setting up tokenizer, train and dev data\n",
    "tokenizer = TweetTokenizer()\n",
    "train_data = sen_vectorizer(paths['train'], cutoff = 100)\n",
    "train_matrix = create_onehot(train_data['vocabulary'], train_data['sentences'], TweetTokenizer)"
   ]
  },
  {
   "cell_type": "code",
   "execution_count": 8,
   "metadata": {},
   "outputs": [],
   "source": [
    "# the official tensorflow way of making skip-grams\n",
    "# Can be tabbed out \n",
    "skip_grams = {}\n",
    "counter = 0\n",
    "for line in train_data['sentences']:\n",
    "    example_sequence = [train_data['vocabulary'][word] for word in train_data['sentences'][line]]\n",
    "    a = tf.keras.preprocessing.sequence.skipgrams(\n",
    "    example_sequence,\n",
    "    vocabulary_size=train_data['vocab_size'],\n",
    "    window_size=2,\n",
    "    negative_samples=0,\n",
    "    shuffle = False)\n",
    "    skip_grams[counter] = a\n",
    "    counter+=1"
   ]
  },
  {
   "cell_type": "code",
   "execution_count": 11,
   "metadata": {},
   "outputs": [],
   "source": [
    "\n",
    "def rob_skipgram(tokenized_sents, tokenizer, word2idx, window_size):\n",
    "    PAD = '<PAD>'\n",
    "    fullData = []\n",
    "    labels = []\n",
    "    for sent in tokenized_sents:\n",
    "        for tgtIdx in range(len(tokenized_sents[sent])):\n",
    "            labels.append(word2idx[tokenized_sents[sent][tgtIdx]])\n",
    "            dataLine = []\n",
    "            # backwards\n",
    "            for dist in reversed(range(1,window_size+1)):\n",
    "                srcIdx = tgtIdx - dist\n",
    "                if srcIdx < 0:\n",
    "                    dataLine.append(word2idx[PAD])\n",
    "                else:\n",
    "                    dataLine.append(word2idx[tokenized_sents[sent][srcIdx]])\n",
    "            # forwards\n",
    "            for dist in range(1,window_size+1):\n",
    "                srcIdx = tgtIdx + dist\n",
    "                if srcIdx >= len(tokenized_sents[sent]):\n",
    "                    dataLine.append(word2idx[PAD])\n",
    "                else:\n",
    "                    dataLine.append(word2idx[tokenized_sents[sent][srcIdx]])\n",
    "            fullData.append(dataLine)\n",
    "    return fullData, labels\n",
    "data, labels = rob_skipgram(train_data['sentences'], tokenizer, train_data['vocabulary'], 2)\n",
    "labels = torch.tensor(labels)\n",
    "data = torch.tensor(data)\n"
   ]
  },
  {
   "cell_type": "code",
   "execution_count": 12,
   "metadata": {},
   "outputs": [
    {
     "name": "stdout",
     "output_type": "stream",
     "text": [
      "3721204 3721204 99946\n"
     ]
    },
    {
     "data": {
      "text/plain": [
       "tensor([   1,    2,    3,  ...,   14, 5537,   20])"
      ]
     },
     "execution_count": 12,
     "metadata": {},
     "output_type": "execute_result"
    }
   ],
   "source": [
    "print(len(data), len(labels), len(train_data['labels']))\n",
    "labels"
   ]
  },
  {
   "cell_type": "code",
   "execution_count": 13,
   "metadata": {},
   "outputs": [
    {
     "name": "stdout",
     "output_type": "stream",
     "text": [
      "CBOW(\n",
      "  (embeddings): Embedding(84746, 64)\n",
      "  (linear): Linear(in_features=64, out_features=84746, bias=True)\n",
      "  (loss_function): CrossEntropyLoss()\n",
      ")\n"
     ]
    }
   ],
   "source": [
    "embed_dim = 64\n",
    "\n",
    "class CBOW(nn.Module):\n",
    "    def __init__(self, emb_dim, vocab_dim):\n",
    "        super(CBOW, self).__init__()\n",
    "        self.embeddings = nn.Embedding(vocab_dim, emb_dim)\n",
    "        # note that embeddingsbag can also be used, then sum can be skipped in forward()\n",
    "        self.linear = nn.Linear(emb_dim, vocab_dim)\n",
    "        #self.activation_function = nn.Softmax(dim=0)\n",
    "        self.loss_function = nn.CrossEntropyLoss()\n",
    "\n",
    "    \n",
    "    def forward(self, inputs, gold):\n",
    "        embeds = self.embeddings(inputs)\n",
    "        out = torch.sum(embeds,dim=0)\n",
    "        out = self.linear(out)\n",
    "        out = self.loss_function(out, gold)\n",
    "        return out\n",
    "\n",
    "\n",
    "cbow = CBOW(embed_dim,len(train_data['vocabulary']))\n",
    "print(cbow)"
   ]
  },
  {
   "cell_type": "code",
   "execution_count": 19,
   "metadata": {},
   "outputs": [
    {
     "name": "stdout",
     "output_type": "stream",
     "text": [
      "0\n",
      "0 0.0\n",
      "1000 9080.258647672832\n",
      "2000 18411.396780110896\n",
      "3000 27463.60071514873\n",
      "4000 36460.331681388896\n",
      "5000 45635.3055561739\n",
      "6000 54360.789154761704\n",
      "7000 63510.20990715292\n",
      "8000 72752.26343639311\n",
      "9000 82814.93785925326\n",
      "10000 92468.80426506815\n",
      "11000 101977.02085476997\n",
      "12000 111735.99196946505\n",
      "13000 121127.34042524057\n"
     ]
    },
    {
     "ename": "KeyboardInterrupt",
     "evalue": "",
     "output_type": "error",
     "traceback": [
      "\u001b[0;31m---------------------------------------------------------------------------\u001b[0m",
      "\u001b[0;31mKeyboardInterrupt\u001b[0m                         Traceback (most recent call last)",
      "\u001b[0;32m<ipython-input-19-b9e7620f755f>\u001b[0m in \u001b[0;36m<module>\u001b[0;34m\u001b[0m\n\u001b[1;32m     17\u001b[0m             \u001b[0mlabel\u001b[0m \u001b[0;34m=\u001b[0m \u001b[0msub_l\u001b[0m\u001b[0;34m.\u001b[0m\u001b[0mview\u001b[0m\u001b[0;34m(\u001b[0m\u001b[0;36m1\u001b[0m\u001b[0;34m)\u001b[0m\u001b[0;34m\u001b[0m\u001b[0;34m\u001b[0m\u001b[0m\n\u001b[1;32m     18\u001b[0m             \u001b[0;31m# zero the parameter gradients\u001b[0m\u001b[0;34m\u001b[0m\u001b[0;34m\u001b[0m\u001b[0;34m\u001b[0m\u001b[0m\n\u001b[0;32m---> 19\u001b[0;31m             \u001b[0moptimizer\u001b[0m\u001b[0;34m.\u001b[0m\u001b[0mzero_grad\u001b[0m\u001b[0;34m(\u001b[0m\u001b[0;34m)\u001b[0m\u001b[0;34m\u001b[0m\u001b[0;34m\u001b[0m\u001b[0m\n\u001b[0m\u001b[1;32m     20\u001b[0m \u001b[0;34m\u001b[0m\u001b[0m\n\u001b[1;32m     21\u001b[0m             \u001b[0;31m# forward + backward + optimize\u001b[0m\u001b[0;34m\u001b[0m\u001b[0;34m\u001b[0m\u001b[0;34m\u001b[0m\u001b[0m\n",
      "\u001b[0;32m~/opt/anaconda3/lib/python3.8/site-packages/torch/optim/optimizer.py\u001b[0m in \u001b[0;36mzero_grad\u001b[0;34m(self, set_to_none)\u001b[0m\n\u001b[1;32m    214\u001b[0m                             \u001b[0;32melse\u001b[0m\u001b[0;34m:\u001b[0m\u001b[0;34m\u001b[0m\u001b[0;34m\u001b[0m\u001b[0m\n\u001b[1;32m    215\u001b[0m                                 \u001b[0mp\u001b[0m\u001b[0;34m.\u001b[0m\u001b[0mgrad\u001b[0m\u001b[0;34m.\u001b[0m\u001b[0mrequires_grad_\u001b[0m\u001b[0;34m(\u001b[0m\u001b[0;32mFalse\u001b[0m\u001b[0;34m)\u001b[0m\u001b[0;34m\u001b[0m\u001b[0;34m\u001b[0m\u001b[0m\n\u001b[0;32m--> 216\u001b[0;31m                             \u001b[0mp\u001b[0m\u001b[0;34m.\u001b[0m\u001b[0mgrad\u001b[0m\u001b[0;34m.\u001b[0m\u001b[0mzero_\u001b[0m\u001b[0;34m(\u001b[0m\u001b[0;34m)\u001b[0m\u001b[0;34m\u001b[0m\u001b[0;34m\u001b[0m\u001b[0m\n\u001b[0m\u001b[1;32m    217\u001b[0m \u001b[0;34m\u001b[0m\u001b[0m\n\u001b[1;32m    218\u001b[0m     \u001b[0;32mdef\u001b[0m \u001b[0mstep\u001b[0m\u001b[0;34m(\u001b[0m\u001b[0mself\u001b[0m\u001b[0;34m,\u001b[0m \u001b[0mclosure\u001b[0m\u001b[0;34m)\u001b[0m\u001b[0;34m:\u001b[0m\u001b[0;34m\u001b[0m\u001b[0;34m\u001b[0m\u001b[0m\n",
      "\u001b[0;31mKeyboardInterrupt\u001b[0m: "
     ]
    }
   ],
   "source": [
    "feat_batches, label_batches = create_batches(data, 1000, labels)\n",
    "\n",
    "# compile and train the model\n",
    "optimizer = optim.SGD(cbow.parameters(), lr=0.001)\n",
    "counter = 0\n",
    "loop_nr = 1\n",
    "\n",
    "for epoch in range(10):  # loop over the dataset multiple times\n",
    "    running_loss = 0.0\n",
    "    print(epoch)\n",
    "    for window, label in zip(feat_batches, label_batches):\n",
    "        for sub_w, sub_l in zip(window, label):\n",
    "            if counter % 1000 == 0:\n",
    "                print(counter, running_loss)\n",
    "            window = sub_w.view(-1, 1)\n",
    "            label = sub_l.view(1)\n",
    "            # zero the parameter gradients\n",
    "            optimizer.zero_grad()\n",
    "\n",
    "            # forward + backward + optimize\n",
    "            loss = cbow.forward(window, label)\n",
    "            loss.backward()\n",
    "            optimizer.step()\n",
    "            running_loss += loss.item()\n",
    "            counter+=1\n",
    "\n",
    "print('Finished Training')"
   ]
  },
  {
   "cell_type": "code",
   "execution_count": null,
   "metadata": {},
   "outputs": [],
   "source": [
    "type(data)"
   ]
  }
 ],
 "metadata": {
  "kernelspec": {
   "display_name": "Python 3",
   "language": "python",
   "name": "python3"
  },
  "language_info": {
   "codemirror_mode": {
    "name": "ipython",
    "version": 3
   },
   "file_extension": ".py",
   "mimetype": "text/x-python",
   "name": "python",
   "nbconvert_exporter": "python",
   "pygments_lexer": "ipython3",
   "version": "3.8.3"
  }
 },
 "nbformat": 4,
 "nbformat_minor": 4
}
