{
 "cells": [
  {
   "cell_type": "code",
   "execution_count": null,
   "metadata": {},
   "outputs": [],
   "source": [
    "# imports\n",
    "import pandas as pd\n",
    "import os"
   ]
  },
  {
   "cell_type": "markdown",
   "metadata": {},
   "source": [
    "# Reformatting the datasets in the Cleaned_data folder\n",
    "\n",
    "Removed unneeded columns and formatted all csv's to have the same structure and dtypes"
   ]
  },
  {
   "cell_type": "code",
   "execution_count": null,
   "metadata": {},
   "outputs": [],
   "source": [
    "# helper function to remove unneeded columns, rename final columns, and enforce dtypes\n",
    "def formatter_saver(remove_list, text_col, label_col):\n",
    "    for i in remove_list:\n",
    "        df.drop([i], axis=1, inplace=True)\n",
    "        \n",
    "    df.rename(columns={text_col: 'text', label_col: 'label'}, inplace=True)\n",
    "    \n",
    "    df['text'] = df['text'].astype(str)\n",
    "    df['label'] = df['label'].astype(float)\n",
    "    \n",
    "    return df"
   ]
  },
  {
   "cell_type": "markdown",
   "metadata": {},
   "source": [
    "# formatting cleaned_covid.csv and saving it"
   ]
  },
  {
   "cell_type": "code",
   "execution_count": null,
   "metadata": {},
   "outputs": [],
   "source": [
    "df = pd.read_csv('Cleaned_data/cleaned_covid.csv')\n",
    "#df.head()"
   ]
  },
  {
   "cell_type": "code",
   "execution_count": null,
   "metadata": {},
   "outputs": [],
   "source": [
    "# formatting\n",
    "df = formatter(df, remove_list=['label'], text_col='tweet_text', label_col='sentiment')\n",
    "#df.head()"
   ]
  },
  {
   "cell_type": "code",
   "execution_count": null,
   "metadata": {},
   "outputs": [],
   "source": [
    "# saving to 'reformatted' folder under 'Cleaned_data' folder\n",
    "os.makedirs('Cleaned_data/reformatted', exist_ok=True)\n",
    "df.to_csv('Cleaned_data/reformatted/covid.csv', index=False)"
   ]
  },
  {
   "cell_type": "markdown",
   "metadata": {},
   "source": [
    "# formatting cleaned_gold.csv and saving it"
   ]
  },
  {
   "cell_type": "code",
   "execution_count": null,
   "metadata": {},
   "outputs": [],
   "source": [
    "df = pd.read_csv('Cleaned_data/cleaned_gold.csv')\n",
    "#df.head()"
   ]
  },
  {
   "cell_type": "code",
   "execution_count": null,
   "metadata": {},
   "outputs": [],
   "source": [
    "df = formatter(df, remove_list=['label'], text_col='News', label_col='sentiment')\n",
    "#df.head()"
   ]
  },
  {
   "cell_type": "code",
   "execution_count": null,
   "metadata": {},
   "outputs": [],
   "source": [
    "# saving to 'reformatted' folder under 'Cleaned_data' folder\n",
    "os.makedirs('Cleaned_data/reformatted', exist_ok=True)\n",
    "df.to_csv('Cleaned_data/reformatted/gold.csv', index=False)"
   ]
  },
  {
   "cell_type": "markdown",
   "metadata": {},
   "source": [
    "# formatting cleaned_kindle.csv and saving it"
   ]
  },
  {
   "cell_type": "code",
   "execution_count": null,
   "metadata": {},
   "outputs": [],
   "source": [
    "df = pd.read_csv('Cleaned_data/cleaned_kindle.csv')\n",
    "#df.head()"
   ]
  },
  {
   "cell_type": "code",
   "execution_count": null,
   "metadata": {},
   "outputs": [],
   "source": [
    "df = formatter(df, remove_list=['Unnamed: 0', 'rating'], text_col='reviewText', label_col='sentiment')\n",
    "#df.head()"
   ]
  },
  {
   "cell_type": "code",
   "execution_count": null,
   "metadata": {},
   "outputs": [],
   "source": [
    "# saving to 'reformatted' folder under 'Cleaned_data' folder\n",
    "os.makedirs('Cleaned_data/reformatted', exist_ok=True)\n",
    "df.to_csv('Cleaned_data/reformatted/kindle.csv', index=False)"
   ]
  },
  {
   "cell_type": "markdown",
   "metadata": {},
   "source": [
    "# formatting imdb.csv and saving it"
   ]
  },
  {
   "cell_type": "code",
   "execution_count": null,
   "metadata": {},
   "outputs": [],
   "source": [
    "df = pd.read_csv('Cleaned_data/imdb.csv')\n",
    "#df.head()"
   ]
  },
  {
   "cell_type": "code",
   "execution_count": null,
   "metadata": {},
   "outputs": [],
   "source": [
    "df = formatter(df, remove_list=['Unnamed: 0'], text_col='reviewText', label_col='sentiment')\n",
    "#df.head()"
   ]
  },
  {
   "cell_type": "code",
   "execution_count": null,
   "metadata": {},
   "outputs": [],
   "source": [
    "# saving to 'reformatted' folder under 'Cleaned_data' folder\n",
    "os.makedirs('Cleaned_data/reformatted', exist_ok=True)\n",
    "df.to_csv('Cleaned_data/reformatted/imdb.csv', index=False)"
   ]
  },
  {
   "cell_type": "markdown",
   "metadata": {},
   "source": [
    "# formatting reddit.csv and saving it"
   ]
  },
  {
   "cell_type": "code",
   "execution_count": null,
   "metadata": {},
   "outputs": [],
   "source": [
    "df = pd.read_csv('Cleaned_data/reddit.csv')\n",
    "#df.head()"
   ]
  },
  {
   "cell_type": "code",
   "execution_count": null,
   "metadata": {},
   "outputs": [],
   "source": [
    "df = formatter(df, remove_list=['Unnamed: 0'], text_col='reviewText', label_col='sentiment')\n",
    "#df.head()"
   ]
  },
  {
   "cell_type": "code",
   "execution_count": null,
   "metadata": {},
   "outputs": [],
   "source": [
    "# saving to 'reformatted' folder under 'Cleaned_data' folder\n",
    "os.makedirs('Cleaned_data/reformatted', exist_ok=True)\n",
    "df.to_csv('Cleaned_data/reformatted/reddit.csv', index=False)"
   ]
  },
  {
   "cell_type": "markdown",
   "metadata": {},
   "source": [
    "# formatting twitter.csv and saving it"
   ]
  },
  {
   "cell_type": "code",
   "execution_count": null,
   "metadata": {},
   "outputs": [],
   "source": [
    "df = pd.read_csv('Cleaned_data/twitter.csv')\n",
    "#df.head()"
   ]
  },
  {
   "cell_type": "code",
   "execution_count": null,
   "metadata": {},
   "outputs": [],
   "source": [
    "df = formatter(df, remove_list=['Unnamed: 0'], text_col='reviewText', label_col='sentiment')\n",
    "#df.head()"
   ]
  },
  {
   "cell_type": "code",
   "execution_count": null,
   "metadata": {},
   "outputs": [],
   "source": [
    "# saving to 'reformatted' folder under 'Cleaned_data' folder\n",
    "os.makedirs('Cleaned_data/reformatted', exist_ok=True)\n",
    "df.to_csv('Cleaned_data/reformatted/twitter.csv', index=False)"
   ]
  }
 ],
 "metadata": {
  "kernelspec": {
   "display_name": "Python 3",
   "language": "python",
   "name": "python3"
  },
  "language_info": {
   "codemirror_mode": {
    "name": "ipython",
    "version": 3
   },
   "file_extension": ".py",
   "mimetype": "text/x-python",
   "name": "python",
   "nbconvert_exporter": "python",
   "pygments_lexer": "ipython3",
   "version": "3.8.5"
  }
 },
 "nbformat": 4,
 "nbformat_minor": 4
}
