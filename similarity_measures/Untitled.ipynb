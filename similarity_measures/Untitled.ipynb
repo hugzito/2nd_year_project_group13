{
 "cells": [
  {
   "cell_type": "code",
   "execution_count": 17,
   "id": "1a6d006c",
   "metadata": {},
   "outputs": [],
   "source": [
    "import torch \n",
    "import pandas as pd\n",
    "import numpy as np\n",
    "from nltk.tokenize import TweetTokenizer"
   ]
  },
  {
   "cell_type": "code",
   "execution_count": 140,
   "id": "f1a4d8bf",
   "metadata": {},
   "outputs": [],
   "source": [
    "js = scipy.spatial.distance.jensenshannon\n",
    "\n",
    "imdb = pd.read_csv('../own_data/imdb_data/Train.csv').to_numpy()\n",
    "twitter = pd.read_csv('../own_data/reddit_twitter_data/Twitter_Data.csv').to_numpy()\n",
    "reddit = pd.read_csv('../own_data/reddit_twitter_data/Reddit_Data.csv').to_numpy()"
   ]
  },
  {
   "cell_type": "code",
   "execution_count": 141,
   "id": "94a3cae0",
   "metadata": {},
   "outputs": [],
   "source": [
    "imdb_text = imdb[:,0]\n",
    "imdb_labels = imdb[:,1]\n",
    "twitter_text = twitter[:,0]\n",
    "twitter_labels = twitter[:,1]\n",
    "reddit_text = reddit[:,0]\n",
    "reddit_labels = reddit[:,1]\n"
   ]
  },
  {
   "cell_type": "code",
   "execution_count": 142,
   "id": "abd157bf",
   "metadata": {},
   "outputs": [],
   "source": [
    "datasets = [imdb_text, twitter_text, reddit_text]"
   ]
  },
  {
   "cell_type": "code",
   "execution_count": 143,
   "id": "1f731a5c",
   "metadata": {},
   "outputs": [],
   "source": [
    "w2idx = {}\n",
    "idx2w = {}\n",
    "tokenizer = TweetTokenizer()\n",
    "bruh = {}\n",
    "wc = 0\n",
    "for idx, data_text in enumerate(datasets):\n",
    "    word_counts = [0 for i in range(1000000)]\n",
    "    for line_idx, line in enumerate(data_text):\n",
    "        if type(line) == str:\n",
    "            for word in tokenizer.tokenize(line):\n",
    "                if word not in w2idx:\n",
    "                    w2idx[word] = wc\n",
    "                    idx2w[wc] = word\n",
    "                    word_counts[wc] = 1\n",
    "                    wc+=1\n",
    "                else:\n",
    "                    try: \n",
    "                        word_counts[w2idx[word]] += 1\n",
    "                    except:\n",
    "                        pass\n",
    "    bruh[idx] = word_counts\n",
    "\n"
   ]
  },
  {
   "cell_type": "code",
   "execution_count": 95,
   "id": "ada1f0a2",
   "metadata": {},
   "outputs": [
    {
     "data": {
      "text/plain": [
       "['balls', 0, 0, 0, 0, 0, 0, 0, 0, 0]"
      ]
     },
     "execution_count": 95,
     "metadata": {},
     "output_type": "execute_result"
    }
   ],
   "source": [
    "l = [0 for i in range(10)]"
   ]
  },
  {
   "cell_type": "code",
   "execution_count": 144,
   "id": "21f77925",
   "metadata": {},
   "outputs": [],
   "source": [
    "x = np.array(bruh[0])\n",
    "y = np.array(bruh[1])\n",
    "z = np.array(bruh[2])"
   ]
  },
  {
   "cell_type": "code",
   "execution_count": 145,
   "id": "8387318c",
   "metadata": {},
   "outputs": [
    {
     "name": "stdout",
     "output_type": "stream",
     "text": [
      "0.5772836680167786\n",
      "0.5380049453115986\n",
      "0.3123706367843658\n"
     ]
    },
    {
     "name": "stderr",
     "output_type": "stream",
     "text": [
      "/var/folders/7n/1v9m4ykn66ddbcxt5nwgg9280000gn/T/ipykernel_63339/1427131570.py:1: RuntimeWarning: overflow encountered in exp\n",
      "  softmax_twitter = np.exp(x)/np.sum(np.exp(x))\n",
      "/var/folders/7n/1v9m4ykn66ddbcxt5nwgg9280000gn/T/ipykernel_63339/1427131570.py:1: RuntimeWarning: invalid value encountered in true_divide\n",
      "  softmax_twitter = np.exp(x)/np.sum(np.exp(x))\n",
      "/var/folders/7n/1v9m4ykn66ddbcxt5nwgg9280000gn/T/ipykernel_63339/1427131570.py:2: RuntimeWarning: overflow encountered in exp\n",
      "  softmax_imdb = np.exp(y)/np.sum(np.exp(y))\n",
      "/var/folders/7n/1v9m4ykn66ddbcxt5nwgg9280000gn/T/ipykernel_63339/1427131570.py:2: RuntimeWarning: invalid value encountered in true_divide\n",
      "  softmax_imdb = np.exp(y)/np.sum(np.exp(y))\n"
     ]
    }
   ],
   "source": [
    "softmax_twitter = np.exp(x)/np.sum(np.exp(x))\n",
    "softmax_imdb = np.exp(y)/np.sum(np.exp(y))\n",
    "\n",
    "print(js(x,y))\n",
    "print(js(x,z))\n",
    "print(js(y,z))"
   ]
  },
  {
   "cell_type": "code",
   "execution_count": 137,
   "id": "5f31de45",
   "metadata": {},
   "outputs": [
    {
     "data": {
      "image/png": "[encoded data removed]",
      "text/plain": [
       "<Figure size 432x288 with 1 Axes>"
      ]
     },
     "metadata": {
      "needs_background": "light"
     },
     "output_type": "display_data"
    },
    {
     "data": {
      "text/plain": [
       "array([115857,    367,  19366,  55512,    298, 444288,     65,  55728,\n",
       "         6928, 247764,    436, 458761,     55,   3192,  16422,    100,\n",
       "        34748,   2408,   3553,   2870,   4090, 105605,   6341, 435725,\n",
       "         3197,     89,   9340,  33270,   2138, 211189,  42007,     20,\n",
       "        27582,    786,   2593,  37568,    451,      4,   5518,  31076,\n",
       "         1597,   1063,  33130,   1619,   1158,   1784,   1959,  17503,\n",
       "        67822,    618,  28504,  19028,  14325, 247827,    233, 228184,\n",
       "        19456,   2217,  68096,   1627,   1865,     33,    628,  71260,\n",
       "        17701,   2669,   4649,  75917,     65,   1217,    230,   3150,\n",
       "       106460, 105811,  11995,    491,  67711,   4930,   1636,    128,\n",
       "         2412,    333,     12,   1313,    453,   7844,   3459,     69,\n",
       "         4999,     32,    303,  43479,   2977,    867,      1,      9,\n",
       "         7581,   1608, 138400,    910])"
      ]
     },
     "execution_count": 137,
     "metadata": {},
     "output_type": "execute_result"
    }
   ],
   "source": [
    "import numpy as np\n",
    "import matplotlib.pyplot as plt\n",
    "plt.style.use('seaborn-deep')\n",
    "plt.hist([x,y])\n",
    "plt.show()\n",
    "x"
   ]
  },
  {
   "cell_type": "code",
   "execution_count": 135,
   "id": "2e346888",
   "metadata": {},
   "outputs": [],
   "source": [
    "x = x[:100]"
   ]
  },
  {
   "cell_type": "code",
   "execution_count": 139,
   "id": "84706a2f",
   "metadata": {},
   "outputs": [
    {
     "data": {
      "text/plain": [
       "<seaborn.axisgrid.FacetGrid at 0x7fca770da940>"
      ]
     },
     "execution_count": 139,
     "metadata": {},
     "output_type": "execute_result"
    },
    {
     "data": {
      "image/png": "[encoded data removed]",
      "text/plain": [
       "<Figure size 360x360 with 1 Axes>"
      ]
     },
     "metadata": {
      "needs_background": "light"
     },
     "output_type": "display_data"
    }
   ],
   "source": [
    "import seaborn as sns\n",
    "sns.displot(x,kind ='kde')"
   ]
  },
  {
   "cell_type": "code",
   "execution_count": null,
   "id": "4ce77687",
   "metadata": {},
   "outputs": [],
   "source": []
  }
 ],
 "metadata": {
  "kernelspec": {
   "display_name": "Python 3 (ipykernel)",
   "language": "python",
   "name": "python3"
  },
  "language_info": {
   "codemirror_mode": {
    "name": "ipython",
    "version": 3
   },
   "file_extension": ".py",
   "mimetype": "text/x-python",
   "name": "python",
   "nbconvert_exporter": "python",
   "pygments_lexer": "ipython3",
   "version": "3.9.12"
  }
 },
 "nbformat": 4,
 "nbformat_minor": 5
}
