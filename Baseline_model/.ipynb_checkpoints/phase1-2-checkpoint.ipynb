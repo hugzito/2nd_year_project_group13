{
 "cells": [
  {
   "cell_type": "markdown",
   "metadata": {},
   "source": [
    "# Project phase 1: Baseline\n",
    "\n",
    "The goal of this phase is to create a baseline model. Note that the word baseline can mean different things. In the course we distinguished three different types of baselines:\n",
    "* 1. The simplest possible approach (majority baseline, i.e. everything is positive or noun)\n",
    "* 2. A simple machine learning classifier (logistic regression with words as features)\n",
    "* 3. The ``state-of-the-art'' approach on which you want to improve (your starting point)\n",
    "\n",
    "For this phase you need to make a number 2 or 3 baseline. \n",
    "\n",
    "If you plan to have a research question like: can we improve sentiment detection systems by doing X, the answer to the question is the most relevant if you have a competetive baseline (3). In this case we would suggest to use a BiLSTM or even a transformer based model, so that you can re-use the baseline for the final research question (phase 3).\n",
    "\n",
    "You should pick one of the following tasks to create your baseline for."
   ]
  },
  {
   "cell_type": "markdown",
   "metadata": {},
   "source": [
    "## Task 1: Sentiment classification\n",
    "* The data can be found in the `classification` folder.\n",
    "* The goal is to predict the label in the `sentiment` field.\n",
    "* **You have to upload the predictions of `music_reviews_test_masked.json.gz` to CodaLab. (The link will be posted here on monday). Note that the format should match the json files in the repository.**\n",
    "* **Also upload a .txt file on LearnIt (one per group) with a short description of your baseline.**\n",
    "\n",
    "The data can be read like:"
   ]
  },
  {
   "cell_type": "code",
   "execution_count": 1,
   "metadata": {},
   "outputs": [],
   "source": [
    "import numpy as np \n",
    "import torch \n",
    "import pandas as pd\n",
    "from sklearn.linear_model import LogisticRegression\n",
    "from sklearn.metrics import classification_report"
   ]
  },
  {
   "cell_type": "code",
   "execution_count": 2,
   "metadata": {},
   "outputs": [
    {
     "name": "stdout",
     "output_type": "stream",
     "text": [
      "\"vote\": 3\n",
      "\"verified\": True\n",
      "\"reviewTime\": 12 19, 2012\n",
      "\"reviewerID\": A1KKWETTT5BZ6N\n",
      "\"asin\": B00474S1J2\n",
      "\"reviewText\": My dentist recommended this as a relaxation technique for dental visits. They give me an ipod with headphones, play this on it and it relieves some of the stress of dental treatment, which I dislike intensely.\n",
      "It worked so well that I bought my own copy to try at home. I fall asleep after a couple of minutes and stay asleep. Instead of tossing and turning, I hardly move at all. Highly recommend.\n",
      "\"summary\": Out like a light!\n",
      "\"unixReviewTime\": 1355875200\n",
      "\"sentiment\": positive\n",
      "\"id\": 0\n"
     ]
    }
   ],
   "source": [
    "import gzip\n",
    "import json\n",
    "for line in gzip.open('classification/music_reviews_dev.json.gz'):\n",
    "    review_data = json.loads(line)\n",
    "    for key in review_data:\n",
    "        print('\"' + key +'\": ' + str(review_data[key]))\n",
    "    break\n",
    "paths = {'train':'classification/music_reviews_train.json.gz',\n",
    "        'test':'classification/music_reviews_test_masked.json.gz'}"
   ]
  },
  {
   "cell_type": "code",
   "execution_count": 23,
   "metadata": {},
   "outputs": [
    {
     "name": "stdout",
     "output_type": "stream",
     "text": [
      "99946 226347\n"
     ]
    }
   ],
   "source": [
    "train_vocab = {}\n",
    "train = gzip.open(paths['train'])\n",
    "counter1 = 0\n",
    "counter2 = 0\n",
    "counter3 = 0\n",
    "train_no_reviewText = []\n",
    "labels = {}\n",
    "train_sentences = {}\n",
    "for line in train:\n",
    "    counter1 +=1\n",
    "    #print(line)\n",
    "    if 'reviewText' in json.loads(line).keys():\n",
    "        train_sentences[counter3] = json.loads(line)['reviewText']\n",
    "        counter3 += 1\n",
    "        for word in json.loads(line)['reviewText'].split():\n",
    "            if word not in train_vocab.keys():\n",
    "                train_vocab[word] = counter2\n",
    "                counter2 += 1\n",
    "    else:\n",
    "        train_no_reviewText.append(counter1)\n",
    "print(counter3,counter2)"
   ]
  },
  {
   "cell_type": "code",
   "execution_count": 4,
   "metadata": {},
   "outputs": [],
   "source": [
    "# Gram matrix \n",
    "m1 = torch.zeros(counter3, counter2)\n"
   ]
  },
  {
   "cell_type": "code",
   "execution_count": 5,
   "metadata": {},
   "outputs": [],
   "source": [
    "# Need idx2word\n",
    "idx2word = dict([(value, key) for key, value in train_vocab.items()])\n",
    "\n",
    "# Begin correcting gram matrix\n",
    "\n",
    "for sen in train_sentences: \n",
    "    for word in train_sentences[sen].split(): \n",
    "        m1[sen, train_vocab[word]] = 1"
   ]
  },
  {
   "cell_type": "code",
   "execution_count": 6,
   "metadata": {},
   "outputs": [
    {
     "data": {
      "text/plain": [
       "226347"
      ]
     },
     "execution_count": 6,
     "metadata": {},
     "output_type": "execute_result"
    }
   ],
   "source": [
    "train_vocab = {}\n",
    "train = gzip.open(paths['train'])\n",
    "train_labels = {}\n",
    "counter = 0\n",
    "for line in train:\n",
    "    a = json.loads(line)\n",
    "    if 'reviewText' in a.keys():\n",
    "        if a['sentiment'] == 'positive':\n",
    "            train_labels[counter] = 1\n",
    "        elif a['sentiment'] == 'negative': \n",
    "            train_labels[counter] = 0\n",
    "        counter +=1\n",
    "\n",
    "        \n",
    "#len(labels)\n",
    "#print(type(labels))\n",
    "\n",
    "\n",
    "\n",
    "counter2"
   ]
  },
  {
   "cell_type": "code",
   "execution_count": 7,
   "metadata": {},
   "outputs": [
    {
     "name": "stdout",
     "output_type": "stream",
     "text": [
      "torch.Size([5000, 226347])\n",
      "torch.Size([5000, 226347])\n",
      "torch.Size([5000, 226347])\n",
      "torch.Size([5000, 226347])\n",
      "torch.Size([5000, 226347])\n",
      "torch.Size([5000, 226347])\n",
      "torch.Size([5000, 226347])\n",
      "torch.Size([5000, 226347])\n",
      "torch.Size([5000, 226347])\n",
      "torch.Size([5000, 226347])\n",
      "torch.Size([5000, 226347])\n",
      "torch.Size([5000, 226347])\n",
      "torch.Size([5000, 226347])\n",
      "torch.Size([5000, 226347])\n",
      "torch.Size([5000, 226347])\n",
      "torch.Size([5000, 226347])\n",
      "torch.Size([5000, 226347])\n",
      "torch.Size([5000, 226347])\n",
      "torch.Size([5000, 226347])\n",
      "torch.Size([5000, 1])\n",
      "torch.Size([5000, 1])\n",
      "torch.Size([5000, 1])\n",
      "torch.Size([5000, 1])\n",
      "torch.Size([5000, 1])\n",
      "torch.Size([5000, 1])\n",
      "torch.Size([5000, 1])\n",
      "torch.Size([5000, 1])\n",
      "torch.Size([5000, 1])\n",
      "torch.Size([5000, 1])\n",
      "torch.Size([5000, 1])\n",
      "torch.Size([5000, 1])\n",
      "torch.Size([5000, 1])\n",
      "torch.Size([5000, 1])\n",
      "torch.Size([5000, 1])\n",
      "torch.Size([5000, 1])\n",
      "torch.Size([5000, 1])\n",
      "torch.Size([5000, 1])\n",
      "torch.Size([5000, 1])\n"
     ]
    },
    {
     "data": {
      "text/plain": [
       "20"
      ]
     },
     "execution_count": 7,
     "metadata": {},
     "output_type": "execute_result"
    }
   ],
   "source": [
    "batch_size = 5000\n",
    "num_batches = int(len(m1)/batch_size)\n",
    "train_feats_batches = m1[:batch_size*num_batches].view(num_batches,batch_size, counter2)\n",
    "for feats_batch in train_feats_batches:\n",
    "    print(feats_batch.shape)\n",
    "\n",
    "bingus = list(train_labels.values())\n",
    "bingus = torch.FloatTensor(bingus)\n",
    "\n",
    "num_batches = int(len(bingus)/batch_size)\n",
    "train_label_batches = bingus[:batch_size*num_batches].view(num_batches,batch_size,1)\n",
    "counter = 1\n",
    "for feats_batch in train_label_batches:\n",
    "    counter+=1\n",
    "    print(feats_batch.shape)\n",
    "counter"
   ]
  },
  {
   "cell_type": "code",
   "execution_count": 8,
   "metadata": {},
   "outputs": [
    {
     "name": "stdout",
     "output_type": "stream",
     "text": [
      "Vocab size:  397685\n",
      "m2 constructed!\n",
      "idx2word done!\n",
      "Gram matrix done\n",
      "Labels noted!\n",
      "Feature Matrix shapes: \n",
      "torch.Size([2499, 226347])\n",
      "torch.Size([2499, 226347])\n",
      "torch.Size([2499, 226347])\n",
      "label matrix shapes: \n"
     ]
    }
   ],
   "source": [
    "# Encode test labels\n",
    "test_vocab = {}\n",
    "test = gzip.open(paths['test'])\n",
    "counter1 = 0\n",
    "counter2 = 0\n",
    "counter3 = 0\n",
    "test_no_reviewText = []\n",
    "test_labels = {}\n",
    "test_sentences = {}\n",
    "for line in test:\n",
    "    counter1 +=1\n",
    "    #print(line)\n",
    "    if 'reviewText' in json.loads(line).keys():\n",
    "        test_sentences[counter3] = json.loads(line)['reviewText']\n",
    "        counter3 += 1\n",
    "        for word in json.loads(line)['reviewText'].split():\n",
    "            if word not in train_vocab.keys():\n",
    "                test_vocab[word] = counter2\n",
    "                counter2 += 1\n",
    "    else:\n",
    "        test_no_reviewText.append(counter1)\n",
    "print('Vocab size: ', counter2)\n",
    "        \n",
    "# Construct gram matrix\n",
    "m2 = torch.zeros(counter3, 226347)\n",
    "print('m2 constructed!')\n",
    "\n",
    "\n",
    "# Need idx2word\n",
    "idx2word = dict([(value, key) for key, value in train_vocab.items()])\n",
    "print('idx2word done!')\n",
    "\n",
    "\n",
    "# Begin correcting gram matrix\n",
    "for sen in test_sentences: \n",
    "    for word in test_sentences[sen].split(): \n",
    "        if word in train_vocab.keys():\n",
    "            m2[sen, train_vocab[word]] = 1\n",
    "print('Gram matrix done')\n",
    "\n",
    "#Note labels\n",
    "test = gzip.open(paths['test'])\n",
    "test_labels = {}\n",
    "counter = 0\n",
    "for line in test:\n",
    "    a = json.loads(line)\n",
    "    if 'reviewText' in a.keys():\n",
    "        if a['sentiment'] == 'positive':\n",
    "            test_labels[counter] = 1\n",
    "        elif a['sentiment'] == 'negative': \n",
    "            test_labels[counter] = 0\n",
    "        counter +=1\n",
    "print('Labels noted!')\n",
    "        \n",
    "#Divide into batches\n",
    "\n",
    "batch_size = 2499\n",
    "num_batches = int(len(m2)/batch_size)\n",
    "test_feats_batches = m2[:batch_size*num_batches].view(num_batches,batch_size, 226347)\n",
    "print('Feature Matrix shapes: ')\n",
    "for feats_batch in test_feats_batches:\n",
    "    print(feats_batch.shape)\n",
    "bingus = list(test_labels.values())\n",
    "bingus = torch.FloatTensor(bingus)\n",
    "num_batches = int(len(bingus)/batch_size)\n",
    "test_label_batches = bingus[:batch_size*num_batches].view(num_batches,batch_size,1)\n",
    "print('label matrix shapes: ')\n",
    "for feats_batch in test_label_batches:\n",
    "    print(feats_batch.shape)"
   ]
  },
  {
   "cell_type": "code",
   "execution_count": 9,
   "metadata": {},
   "outputs": [],
   "source": [
    "def load_vocab(filepath):\n",
    "    test_vocab = {}\n",
    "    test = gzip.open(filepath)\n",
    "    counter1 = 0\n",
    "    counter2 = 0\n",
    "    counter3 = 0\n",
    "    test_no_reviewText = []\n",
    "    test_labels = {}\n",
    "    test_sentences = {}\n",
    "    for line in test:\n",
    "        counter1 +=1\n",
    "        #print(line)\n",
    "        if 'reviewText' in json.loads(line).keys():\n",
    "            test_sentences[counter3] = json.loads(line)['reviewText']\n",
    "            counter3 += 1\n",
    "            for word in json.loads(line)['reviewText'].split():\n",
    "                if word not in train_vocab.keys():\n",
    "                    test_vocab[word] = counter2\n",
    "                    counter2 += 1\n",
    "        else:\n",
    "            test_no_reviewText.append(counter1)\n",
    "    final_dict = {'line_count' : counter1,\n",
    "                 'review_count' : counter3,\n",
    "                 'vocab_size' : counter2,\n",
    "                 'no_text_reviews' : test_no_reviewText,\n",
    "                 'labels' : test_labels,\n",
    "                 'vocabulary' : test_vocab,\n",
    "                 'sentences' : test_sentences}\n",
    "    return final_dict\n",
    "\n",
    "def construct_gram(vocab, num_sen, vocab_len, sentences): \n",
    "    # Construct gram matrix\n",
    "    m2 = torch.zeros(num_sen, vocab_len)\n",
    "    print('m2 constructed!')\n",
    "    for sen in sentences: \n",
    "        for word in sentences[sen].split(): \n",
    "            m2[sen, vocab[word]] = 1\n",
    "    print('Gram matrix done')\n",
    "    return m2\n",
    "\n"
   ]
  },
  {
   "cell_type": "code",
   "execution_count": 12,
   "metadata": {
    "scrolled": true
   },
   "outputs": [
    {
     "name": "stderr",
     "output_type": "stream",
     "text": [
      "C:\\Users\\chris\\anaconda3\\lib\\site-packages\\sklearn\\utils\\validation.py:993: DataConversionWarning: A column-vector y was passed when a 1d array was expected. Please change the shape of y to (n_samples, ), for example using ravel().\n",
      "  y = column_or_1d(y, warn=True)\n",
      "C:\\Users\\chris\\anaconda3\\lib\\site-packages\\sklearn\\utils\\validation.py:993: DataConversionWarning: A column-vector y was passed when a 1d array was expected. Please change the shape of y to (n_samples, ), for example using ravel().\n",
      "  y = column_or_1d(y, warn=True)\n",
      "C:\\Users\\chris\\anaconda3\\lib\\site-packages\\sklearn\\utils\\validation.py:993: DataConversionWarning: A column-vector y was passed when a 1d array was expected. Please change the shape of y to (n_samples, ), for example using ravel().\n",
      "  y = column_or_1d(y, warn=True)\n",
      "C:\\Users\\chris\\anaconda3\\lib\\site-packages\\sklearn\\utils\\validation.py:993: DataConversionWarning: A column-vector y was passed when a 1d array was expected. Please change the shape of y to (n_samples, ), for example using ravel().\n",
      "  y = column_or_1d(y, warn=True)\n",
      "C:\\Users\\chris\\anaconda3\\lib\\site-packages\\sklearn\\utils\\validation.py:993: DataConversionWarning: A column-vector y was passed when a 1d array was expected. Please change the shape of y to (n_samples, ), for example using ravel().\n",
      "  y = column_or_1d(y, warn=True)\n",
      "C:\\Users\\chris\\anaconda3\\lib\\site-packages\\sklearn\\utils\\validation.py:993: DataConversionWarning: A column-vector y was passed when a 1d array was expected. Please change the shape of y to (n_samples, ), for example using ravel().\n",
      "  y = column_or_1d(y, warn=True)\n",
      "C:\\Users\\chris\\anaconda3\\lib\\site-packages\\sklearn\\utils\\validation.py:993: DataConversionWarning: A column-vector y was passed when a 1d array was expected. Please change the shape of y to (n_samples, ), for example using ravel().\n",
      "  y = column_or_1d(y, warn=True)\n",
      "C:\\Users\\chris\\anaconda3\\lib\\site-packages\\sklearn\\utils\\validation.py:993: DataConversionWarning: A column-vector y was passed when a 1d array was expected. Please change the shape of y to (n_samples, ), for example using ravel().\n",
      "  y = column_or_1d(y, warn=True)\n",
      "C:\\Users\\chris\\anaconda3\\lib\\site-packages\\sklearn\\utils\\validation.py:993: DataConversionWarning: A column-vector y was passed when a 1d array was expected. Please change the shape of y to (n_samples, ), for example using ravel().\n",
      "  y = column_or_1d(y, warn=True)\n",
      "C:\\Users\\chris\\anaconda3\\lib\\site-packages\\sklearn\\utils\\validation.py:993: DataConversionWarning: A column-vector y was passed when a 1d array was expected. Please change the shape of y to (n_samples, ), for example using ravel().\n",
      "  y = column_or_1d(y, warn=True)\n",
      "C:\\Users\\chris\\anaconda3\\lib\\site-packages\\sklearn\\utils\\validation.py:993: DataConversionWarning: A column-vector y was passed when a 1d array was expected. Please change the shape of y to (n_samples, ), for example using ravel().\n",
      "  y = column_or_1d(y, warn=True)\n",
      "C:\\Users\\chris\\anaconda3\\lib\\site-packages\\sklearn\\utils\\validation.py:993: DataConversionWarning: A column-vector y was passed when a 1d array was expected. Please change the shape of y to (n_samples, ), for example using ravel().\n",
      "  y = column_or_1d(y, warn=True)\n",
      "C:\\Users\\chris\\anaconda3\\lib\\site-packages\\sklearn\\utils\\validation.py:993: DataConversionWarning: A column-vector y was passed when a 1d array was expected. Please change the shape of y to (n_samples, ), for example using ravel().\n",
      "  y = column_or_1d(y, warn=True)\n",
      "C:\\Users\\chris\\anaconda3\\lib\\site-packages\\sklearn\\utils\\validation.py:993: DataConversionWarning: A column-vector y was passed when a 1d array was expected. Please change the shape of y to (n_samples, ), for example using ravel().\n",
      "  y = column_or_1d(y, warn=True)\n",
      "C:\\Users\\chris\\anaconda3\\lib\\site-packages\\sklearn\\utils\\validation.py:993: DataConversionWarning: A column-vector y was passed when a 1d array was expected. Please change the shape of y to (n_samples, ), for example using ravel().\n",
      "  y = column_or_1d(y, warn=True)\n",
      "C:\\Users\\chris\\anaconda3\\lib\\site-packages\\sklearn\\utils\\validation.py:993: DataConversionWarning: A column-vector y was passed when a 1d array was expected. Please change the shape of y to (n_samples, ), for example using ravel().\n",
      "  y = column_or_1d(y, warn=True)\n",
      "C:\\Users\\chris\\anaconda3\\lib\\site-packages\\sklearn\\utils\\validation.py:993: DataConversionWarning: A column-vector y was passed when a 1d array was expected. Please change the shape of y to (n_samples, ), for example using ravel().\n",
      "  y = column_or_1d(y, warn=True)\n",
      "C:\\Users\\chris\\anaconda3\\lib\\site-packages\\sklearn\\utils\\validation.py:993: DataConversionWarning: A column-vector y was passed when a 1d array was expected. Please change the shape of y to (n_samples, ), for example using ravel().\n",
      "  y = column_or_1d(y, warn=True)\n",
      "C:\\Users\\chris\\anaconda3\\lib\\site-packages\\sklearn\\utils\\validation.py:993: DataConversionWarning: A column-vector y was passed when a 1d array was expected. Please change the shape of y to (n_samples, ), for example using ravel().\n",
      "  y = column_or_1d(y, warn=True)\n"
     ]
    }
   ],
   "source": [
    "#model = LogisticRegression()\n",
    "#for feat, label in zip(train_feats_batches,train_label_batches):\n",
    "#    model.fit(feat,label)\n"
   ]
  },
  {
   "cell_type": "code",
   "execution_count": 13,
   "metadata": {},
   "outputs": [],
   "source": [
    "preds = {}\n",
    "counter = 0\n",
    "for batch in test_feats_batches:\n",
    "    preds[counter] = model.predict(batch)\n",
    "    counter+=1"
   ]
  },
  {
   "cell_type": "code",
   "execution_count": 14,
   "metadata": {},
   "outputs": [
    {
     "data": {
      "text/plain": [
       "(7497,)"
      ]
     },
     "execution_count": 14,
     "metadata": {},
     "output_type": "execute_result"
    }
   ],
   "source": [
    "new_arr = []\n",
    "for i in preds:\n",
    "    for j in preds[i]:\n",
    "        new_arr.append(j)\n",
    "len(new_arr)\n",
    "new_arr = np.array(new_arr)\n",
    "new_arr.shape"
   ]
  },
  {
   "cell_type": "code",
   "execution_count": 83,
   "metadata": {},
   "outputs": [
    {
     "name": "stdout",
     "output_type": "stream",
     "text": [
      "              precision    recall  f1-score   support\n",
      "\n",
      "         0.0       0.73      0.85      0.78       901\n",
      "         1.0       0.91      0.82      0.86      1598\n",
      "\n",
      "    accuracy                           0.83      2499\n",
      "   macro avg       0.82      0.84      0.82      2499\n",
      "weighted avg       0.84      0.83      0.83      2499\n",
      "\n",
      "              precision    recall  f1-score   support\n",
      "\n",
      "         0.0       0.72      0.83      0.77       943\n",
      "         1.0       0.89      0.81      0.85      1556\n",
      "\n",
      "    accuracy                           0.82      2499\n",
      "   macro avg       0.81      0.82      0.81      2499\n",
      "weighted avg       0.83      0.82      0.82      2499\n",
      "\n",
      "              precision    recall  f1-score   support\n",
      "\n",
      "         0.0       0.75      0.86      0.80       991\n",
      "         1.0       0.90      0.81      0.85      1508\n",
      "\n",
      "    accuracy                           0.83      2499\n",
      "   macro avg       0.82      0.83      0.83      2499\n",
      "weighted avg       0.84      0.83      0.83      2499\n",
      "\n",
      "              precision    recall  f1-score   support\n",
      "\n",
      "         0.0       0.73      0.86      0.79       890\n",
      "         1.0       0.91      0.83      0.87      1609\n",
      "\n",
      "    accuracy                           0.84      2499\n",
      "   macro avg       0.82      0.84      0.83      2499\n",
      "weighted avg       0.85      0.84      0.84      2499\n",
      "\n"
     ]
    }
   ],
   "source": [
    "for pred, true in zip(preds, test_label_batches):\n",
    "    print(classification_report(preds[pred], true))"
   ]
  },
  {
   "cell_type": "code",
   "execution_count": 15,
   "metadata": {},
   "outputs": [],
   "source": [
    "test = gzip.open(paths['test'])\n",
    "counter = 0\n",
    "new_data = []\n",
    "for i in test:\n",
    "    bingus = json.loads(i)\n",
    "    if new_arr[counter] == 0:\n",
    "        bingus['sentiment'] = 'negative'\n",
    "    elif new_arr[counter] == 1:\n",
    "        bingus['sentiment'] = 'positive'\n",
    "    new_data.append(bingus)"
   ]
  },
  {
   "cell_type": "code",
   "execution_count": 17,
   "metadata": {},
   "outputs": [
    {
     "name": "stdout",
     "output_type": "stream",
     "text": [
      "{'verified': True, 'reviewTime': '10 24, 2017', 'reviewerID': 'A2HAJB8L9NVYTZ', 'asin': 'B007Y1AMHE', 'reviewText': 'ok', 'summary': 'ok', 'unixReviewTime': 1508803200, 'sentiment': 'positive', 'id': 0}\n"
     ]
    }
   ],
   "source": [
    "for i in new_data:\n",
    "    print(i)\n",
    "    break"
   ]
  },
  {
   "cell_type": "code",
   "execution_count": 21,
   "metadata": {},
   "outputs": [],
   "source": [
    "#with open(\"final.json\", 'a') as f:\n",
    "#    for i in new_data:\n",
    "#        json.dump(i,f)\n",
    "#        f.write('\\n')"
   ]
  },
  {
   "cell_type": "markdown",
   "metadata": {},
   "source": [
    "# Part 2: Break it down\n",
    "\n",
    "In this part of the project, we are tasked with breaking our own model down, to try and improve it. <br> \n",
    "\n",
    "### Suggested methods: \n",
    "- Change language\n",
    "- More negation\n",
    "- Reviews of other products\n",
    "\n",
    "### Things we should also consider: \n",
    "- Better tokenization\n",
    "- Model tuning\n",
    "- Acutually using development data"
   ]
  },
  {
   "cell_type": "code",
   "execution_count": 1,
   "metadata": {},
   "outputs": [
    {
     "data": {
      "text/plain": [
       "'\\n1. Look up better regex expression\\n2. Remove stopwords\\n3. implement padding(might have to wait on that one lmao)\\n4. Use a way more sophisticated model. (might wanna wait on that one too)\\n'"
      ]
     },
     "execution_count": 1,
     "metadata": {},
     "output_type": "execute_result"
    }
   ],
   "source": [
    "# better tokenization: \n",
    "'''\n",
    "1. Look up better regex expression\n",
    "2. Remove stopwords\n",
    "3. implement padding(might have to wait on that one lmao)\n",
    "4. Use a way more sophisticated model. (might wanna wait on that one too)\n",
    "'''\n",
    "\n",
    "\n",
    "\n",
    "\n",
    "\n",
    "\n",
    "\n",
    "\n",
    "\n",
    "\n",
    "\n"
   ]
  },
  {
   "cell_type": "code",
   "execution_count": 44,
   "metadata": {},
   "outputs": [],
   "source": [
    "#Reopen file + imports: \n",
    "import gzip\n",
    "import json\n",
    "import torch \n",
    "from nltk.tokenize import TweetTokenizer\n",
    "from sklearn.linear_model import LogisticRegression\n",
    "import numpy as np\n",
    "from sklearn.metrics import classification_report\n",
    "\n",
    "# This is how they load the data ------------------------------------------\n",
    "#for line in gzip.open('../classification/music_reviews_dev.json.gz'):\n",
    "#    review_data = json.loads(line)\n",
    "#    for key in review_data:\n",
    "#        print('\"' + key +'\": ' + str(review_data[key]))\n",
    "#    break\n",
    "#--------------------------------------------------------------------------\n",
    "\n",
    "\n",
    "paths = {'train':'../classification/music_reviews_train.json.gz',\n",
    "        'test':'../classification/music_reviews_test_masked.json.gz',\n",
    "        'dev' : '../classification/music_reviews_dev.json.gz'}"
   ]
  },
  {
   "cell_type": "code",
   "execution_count": 4,
   "metadata": {},
   "outputs": [],
   "source": [
    "# Vocabs built using TweetTokenizer\n",
    "# \n",
    "\n",
    "\n",
    "def build_vocab(filepath):\n",
    "    train_vocab = {}\n",
    "    train = gzip.open(filepath)\n",
    "    counter1 = 0\n",
    "    counter2 = 0\n",
    "    counter3 = 0\n",
    "    counter = 0\n",
    "    no_reviewText = []\n",
    "    labels = {}\n",
    "    sentences = {}\n",
    "    tokenizer = TweetTokenizer()\n",
    "    for line in train:\n",
    "        counter1 +=1\n",
    "        #print(line)\n",
    "        if 'reviewText' in json.loads(line).keys():\n",
    "            a = json.loads(line)\n",
    "            sentences[counter3] = a['reviewText']\n",
    "            counter3 += 1\n",
    "            if a['sentiment'] == 'positive':\n",
    "                labels[counter] = 1\n",
    "            elif a['sentiment'] == 'negative': \n",
    "                labels[counter] = 0\n",
    "            counter +=1\n",
    "            for word in tokenizer.tokenize(json.loads(line)['reviewText']):\n",
    "                if word not in train_vocab.keys():\n",
    "                    train_vocab[word] = counter2\n",
    "                    counter2 += 1\n",
    "        else:\n",
    "            no_reviewText.append(counter1)\n",
    "    final_dict = {'line_count' : counter1,\n",
    "                 'review_count' : counter3,\n",
    "                 'vocab_size' : counter2,\n",
    "                 'no_text_reviews' : no_reviewText,\n",
    "                 'labels' : labels,\n",
    "                 'vocabulary' : train_vocab,\n",
    "                 'sentences' : sentences}\n",
    "    return final_dict\n",
    "\n",
    "train_set =  build_vocab(paths['train'])\n",
    "dev_set = build_vocab(paths['dev'])\n",
    "\n"
   ]
  },
  {
   "cell_type": "code",
   "execution_count": 9,
   "metadata": {},
   "outputs": [],
   "source": [
    "# Might wanna run tests again just to see if the new tokenization improved performance in any way. \n",
    "tokenizer = TweetTokenizer()\n",
    "# unigrams : \n",
    "def create_unigram(vocab, sentences, tokenzier):\n",
    "    # Create matrix\n",
    "    m1 = torch.zeros(len(sentences), len(vocab))\n",
    "    # Correct indices\n",
    "    for sen in range(len(sentences)): \n",
    "        for word in tokenizer.tokenize(sentences[sen]): \n",
    "            if word in vocab.keys():\n",
    "                m1[sen, vocab[word]] = 1\n",
    "    return m1\n",
    "\n",
    "train_unigram = create_unigram(train_set['vocabulary'], train_set['sentences'], tokenizer)\n",
    "\n",
    "def create_batches(matrix, batch_size,labels): \n",
    "    num_batches = int(len(matrix)/batch_size)\n",
    "    feats_batches = matrix[:batch_size*num_batches].view(num_batches,batch_size, matrix.shape[1])\n",
    "    bingus = torch.FloatTensor(list(labels.values()))\n",
    "    num_batches = int(len(bingus)/batch_size)\n",
    "    label_batches = bingus[:batch_size*num_batches].view(num_batches,batch_size,1)\n",
    "    return feats_batches, label_batches\n",
    "train_feat_batches = create_batches(train_unigram, 2499, train_set['labels'])"
   ]
  },
  {
   "cell_type": "code",
   "execution_count": 30,
   "metadata": {},
   "outputs": [],
   "source": [
    "labels_batches = list(train_feat_batches[1])\n",
    "feat_batches = list(train_feat_batches[0])"
   ]
  },
  {
   "cell_type": "code",
   "execution_count": 31,
   "metadata": {},
   "outputs": [
    {
     "name": "stderr",
     "output_type": "stream",
     "text": [
      "/Users/christianrasmussen/opt/anaconda3/lib/python3.8/site-packages/sklearn/utils/validation.py:73: DataConversionWarning: A column-vector y was passed when a 1d array was expected. Please change the shape of y to (n_samples, ), for example using ravel().\n",
      "  return f(**kwargs)\n",
      "/Users/christianrasmussen/opt/anaconda3/lib/python3.8/site-packages/sklearn/utils/validation.py:73: DataConversionWarning: A column-vector y was passed when a 1d array was expected. Please change the shape of y to (n_samples, ), for example using ravel().\n",
      "  return f(**kwargs)\n",
      "/Users/christianrasmussen/opt/anaconda3/lib/python3.8/site-packages/sklearn/utils/validation.py:73: DataConversionWarning: A column-vector y was passed when a 1d array was expected. Please change the shape of y to (n_samples, ), for example using ravel().\n",
      "  return f(**kwargs)\n",
      "/Users/christianrasmussen/opt/anaconda3/lib/python3.8/site-packages/sklearn/utils/validation.py:73: DataConversionWarning: A column-vector y was passed when a 1d array was expected. Please change the shape of y to (n_samples, ), for example using ravel().\n",
      "  return f(**kwargs)\n",
      "/Users/christianrasmussen/opt/anaconda3/lib/python3.8/site-packages/sklearn/utils/validation.py:73: DataConversionWarning: A column-vector y was passed when a 1d array was expected. Please change the shape of y to (n_samples, ), for example using ravel().\n",
      "  return f(**kwargs)\n",
      "/Users/christianrasmussen/opt/anaconda3/lib/python3.8/site-packages/sklearn/utils/validation.py:73: DataConversionWarning: A column-vector y was passed when a 1d array was expected. Please change the shape of y to (n_samples, ), for example using ravel().\n",
      "  return f(**kwargs)\n",
      "/Users/christianrasmussen/opt/anaconda3/lib/python3.8/site-packages/sklearn/utils/validation.py:73: DataConversionWarning: A column-vector y was passed when a 1d array was expected. Please change the shape of y to (n_samples, ), for example using ravel().\n",
      "  return f(**kwargs)\n",
      "/Users/christianrasmussen/opt/anaconda3/lib/python3.8/site-packages/sklearn/utils/validation.py:73: DataConversionWarning: A column-vector y was passed when a 1d array was expected. Please change the shape of y to (n_samples, ), for example using ravel().\n",
      "  return f(**kwargs)\n",
      "/Users/christianrasmussen/opt/anaconda3/lib/python3.8/site-packages/sklearn/utils/validation.py:73: DataConversionWarning: A column-vector y was passed when a 1d array was expected. Please change the shape of y to (n_samples, ), for example using ravel().\n",
      "  return f(**kwargs)\n",
      "/Users/christianrasmussen/opt/anaconda3/lib/python3.8/site-packages/sklearn/utils/validation.py:73: DataConversionWarning: A column-vector y was passed when a 1d array was expected. Please change the shape of y to (n_samples, ), for example using ravel().\n",
      "  return f(**kwargs)\n",
      "/Users/christianrasmussen/opt/anaconda3/lib/python3.8/site-packages/sklearn/utils/validation.py:73: DataConversionWarning: A column-vector y was passed when a 1d array was expected. Please change the shape of y to (n_samples, ), for example using ravel().\n",
      "  return f(**kwargs)\n",
      "/Users/christianrasmussen/opt/anaconda3/lib/python3.8/site-packages/sklearn/utils/validation.py:73: DataConversionWarning: A column-vector y was passed when a 1d array was expected. Please change the shape of y to (n_samples, ), for example using ravel().\n",
      "  return f(**kwargs)\n",
      "/Users/christianrasmussen/opt/anaconda3/lib/python3.8/site-packages/sklearn/utils/validation.py:73: DataConversionWarning: A column-vector y was passed when a 1d array was expected. Please change the shape of y to (n_samples, ), for example using ravel().\n",
      "  return f(**kwargs)\n",
      "/Users/christianrasmussen/opt/anaconda3/lib/python3.8/site-packages/sklearn/utils/validation.py:73: DataConversionWarning: A column-vector y was passed when a 1d array was expected. Please change the shape of y to (n_samples, ), for example using ravel().\n",
      "  return f(**kwargs)\n",
      "/Users/christianrasmussen/opt/anaconda3/lib/python3.8/site-packages/sklearn/utils/validation.py:73: DataConversionWarning: A column-vector y was passed when a 1d array was expected. Please change the shape of y to (n_samples, ), for example using ravel().\n",
      "  return f(**kwargs)\n",
      "/Users/christianrasmussen/opt/anaconda3/lib/python3.8/site-packages/sklearn/utils/validation.py:73: DataConversionWarning: A column-vector y was passed when a 1d array was expected. Please change the shape of y to (n_samples, ), for example using ravel().\n",
      "  return f(**kwargs)\n",
      "/Users/christianrasmussen/opt/anaconda3/lib/python3.8/site-packages/sklearn/utils/validation.py:73: DataConversionWarning: A column-vector y was passed when a 1d array was expected. Please change the shape of y to (n_samples, ), for example using ravel().\n",
      "  return f(**kwargs)\n",
      "/Users/christianrasmussen/opt/anaconda3/lib/python3.8/site-packages/sklearn/utils/validation.py:73: DataConversionWarning: A column-vector y was passed when a 1d array was expected. Please change the shape of y to (n_samples, ), for example using ravel().\n",
      "  return f(**kwargs)\n",
      "/Users/christianrasmussen/opt/anaconda3/lib/python3.8/site-packages/sklearn/utils/validation.py:73: DataConversionWarning: A column-vector y was passed when a 1d array was expected. Please change the shape of y to (n_samples, ), for example using ravel().\n",
      "  return f(**kwargs)\n",
      "/Users/christianrasmussen/opt/anaconda3/lib/python3.8/site-packages/sklearn/utils/validation.py:73: DataConversionWarning: A column-vector y was passed when a 1d array was expected. Please change the shape of y to (n_samples, ), for example using ravel().\n",
      "  return f(**kwargs)\n",
      "/Users/christianrasmussen/opt/anaconda3/lib/python3.8/site-packages/sklearn/utils/validation.py:73: DataConversionWarning: A column-vector y was passed when a 1d array was expected. Please change the shape of y to (n_samples, ), for example using ravel().\n",
      "  return f(**kwargs)\n",
      "/Users/christianrasmussen/opt/anaconda3/lib/python3.8/site-packages/sklearn/utils/validation.py:73: DataConversionWarning: A column-vector y was passed when a 1d array was expected. Please change the shape of y to (n_samples, ), for example using ravel().\n",
      "  return f(**kwargs)\n",
      "/Users/christianrasmussen/opt/anaconda3/lib/python3.8/site-packages/sklearn/utils/validation.py:73: DataConversionWarning: A column-vector y was passed when a 1d array was expected. Please change the shape of y to (n_samples, ), for example using ravel().\n",
      "  return f(**kwargs)\n",
      "/Users/christianrasmussen/opt/anaconda3/lib/python3.8/site-packages/sklearn/utils/validation.py:73: DataConversionWarning: A column-vector y was passed when a 1d array was expected. Please change the shape of y to (n_samples, ), for example using ravel().\n",
      "  return f(**kwargs)\n",
      "/Users/christianrasmussen/opt/anaconda3/lib/python3.8/site-packages/sklearn/utils/validation.py:73: DataConversionWarning: A column-vector y was passed when a 1d array was expected. Please change the shape of y to (n_samples, ), for example using ravel().\n",
      "  return f(**kwargs)\n",
      "/Users/christianrasmussen/opt/anaconda3/lib/python3.8/site-packages/sklearn/utils/validation.py:73: DataConversionWarning: A column-vector y was passed when a 1d array was expected. Please change the shape of y to (n_samples, ), for example using ravel().\n",
      "  return f(**kwargs)\n",
      "/Users/christianrasmussen/opt/anaconda3/lib/python3.8/site-packages/sklearn/utils/validation.py:73: DataConversionWarning: A column-vector y was passed when a 1d array was expected. Please change the shape of y to (n_samples, ), for example using ravel().\n",
      "  return f(**kwargs)\n",
      "/Users/christianrasmussen/opt/anaconda3/lib/python3.8/site-packages/sklearn/utils/validation.py:73: DataConversionWarning: A column-vector y was passed when a 1d array was expected. Please change the shape of y to (n_samples, ), for example using ravel().\n",
      "  return f(**kwargs)\n",
      "/Users/christianrasmussen/opt/anaconda3/lib/python3.8/site-packages/sklearn/utils/validation.py:73: DataConversionWarning: A column-vector y was passed when a 1d array was expected. Please change the shape of y to (n_samples, ), for example using ravel().\n",
      "  return f(**kwargs)\n",
      "/Users/christianrasmussen/opt/anaconda3/lib/python3.8/site-packages/sklearn/utils/validation.py:73: DataConversionWarning: A column-vector y was passed when a 1d array was expected. Please change the shape of y to (n_samples, ), for example using ravel().\n",
      "  return f(**kwargs)\n"
     ]
    },
    {
     "name": "stderr",
     "output_type": "stream",
     "text": [
      "/Users/christianrasmussen/opt/anaconda3/lib/python3.8/site-packages/sklearn/utils/validation.py:73: DataConversionWarning: A column-vector y was passed when a 1d array was expected. Please change the shape of y to (n_samples, ), for example using ravel().\n",
      "  return f(**kwargs)\n",
      "/Users/christianrasmussen/opt/anaconda3/lib/python3.8/site-packages/sklearn/utils/validation.py:73: DataConversionWarning: A column-vector y was passed when a 1d array was expected. Please change the shape of y to (n_samples, ), for example using ravel().\n",
      "  return f(**kwargs)\n",
      "/Users/christianrasmussen/opt/anaconda3/lib/python3.8/site-packages/sklearn/utils/validation.py:73: DataConversionWarning: A column-vector y was passed when a 1d array was expected. Please change the shape of y to (n_samples, ), for example using ravel().\n",
      "  return f(**kwargs)\n",
      "/Users/christianrasmussen/opt/anaconda3/lib/python3.8/site-packages/sklearn/utils/validation.py:73: DataConversionWarning: A column-vector y was passed when a 1d array was expected. Please change the shape of y to (n_samples, ), for example using ravel().\n",
      "  return f(**kwargs)\n",
      "/Users/christianrasmussen/opt/anaconda3/lib/python3.8/site-packages/sklearn/utils/validation.py:73: DataConversionWarning: A column-vector y was passed when a 1d array was expected. Please change the shape of y to (n_samples, ), for example using ravel().\n",
      "  return f(**kwargs)\n",
      "/Users/christianrasmussen/opt/anaconda3/lib/python3.8/site-packages/sklearn/utils/validation.py:73: DataConversionWarning: A column-vector y was passed when a 1d array was expected. Please change the shape of y to (n_samples, ), for example using ravel().\n",
      "  return f(**kwargs)\n",
      "/Users/christianrasmussen/opt/anaconda3/lib/python3.8/site-packages/sklearn/utils/validation.py:73: DataConversionWarning: A column-vector y was passed when a 1d array was expected. Please change the shape of y to (n_samples, ), for example using ravel().\n",
      "  return f(**kwargs)\n",
      "/Users/christianrasmussen/opt/anaconda3/lib/python3.8/site-packages/sklearn/utils/validation.py:73: DataConversionWarning: A column-vector y was passed when a 1d array was expected. Please change the shape of y to (n_samples, ), for example using ravel().\n",
      "  return f(**kwargs)\n",
      "/Users/christianrasmussen/opt/anaconda3/lib/python3.8/site-packages/sklearn/utils/validation.py:73: DataConversionWarning: A column-vector y was passed when a 1d array was expected. Please change the shape of y to (n_samples, ), for example using ravel().\n",
      "  return f(**kwargs)\n"
     ]
    }
   ],
   "source": [
    "# Make model\n",
    "model = LogisticRegression()\n",
    "\n",
    "# Train model\n",
    "\n",
    "for feat, label in zip(feat_batches, labels_batches):\n",
    "    model.fit(feat,label)"
   ]
  },
  {
   "cell_type": "code",
   "execution_count": 40,
   "metadata": {},
   "outputs": [],
   "source": [
    "dev_unigram = create_unigram(train_set['vocabulary'], dev_set['sentences'], tokenizer)"
   ]
  },
  {
   "cell_type": "code",
   "execution_count": 45,
   "metadata": {},
   "outputs": [
    {
     "name": "stdout",
     "output_type": "stream",
     "text": [
      "              precision    recall  f1-score   support\n",
      "\n",
      "         0.0       0.74      0.87      0.80       900\n",
      "         1.0       0.92      0.83      0.87      1599\n",
      "\n",
      "    accuracy                           0.84      2499\n",
      "   macro avg       0.83      0.85      0.84      2499\n",
      "weighted avg       0.85      0.84      0.85      2499\n",
      "\n",
      "              precision    recall  f1-score   support\n",
      "\n",
      "         0.0       0.71      0.84      0.77       922\n",
      "         1.0       0.90      0.80      0.85      1577\n",
      "\n",
      "    accuracy                           0.82      2499\n",
      "   macro avg       0.81      0.82      0.81      2499\n",
      "weighted avg       0.83      0.82      0.82      2499\n",
      "\n",
      "              precision    recall  f1-score   support\n",
      "\n",
      "         0.0       0.76      0.87      0.81       987\n",
      "         1.0       0.90      0.82      0.86      1512\n",
      "\n",
      "    accuracy                           0.84      2499\n",
      "   macro avg       0.83      0.84      0.83      2499\n",
      "weighted avg       0.84      0.84      0.84      2499\n",
      "\n",
      "              precision    recall  f1-score   support\n",
      "\n",
      "         0.0       0.75      0.86      0.80       909\n",
      "         1.0       0.91      0.84      0.87      1590\n",
      "\n",
      "    accuracy                           0.85      2499\n",
      "   macro avg       0.83      0.85      0.84      2499\n",
      "weighted avg       0.85      0.85      0.85      2499\n",
      "\n"
     ]
    }
   ],
   "source": [
    "dev_batches = create_batches(dev_unigram,2499,dev_set['labels'])\n",
    "preds = {}\n",
    "counter = 0\n",
    "for batch in dev_batches[0]:\n",
    "    preds[counter] = model.predict(batch)\n",
    "    counter+=1\n",
    "new_arr = []\n",
    "for i in preds:\n",
    "    for j in preds[i]:\n",
    "        new_arr.append(j)\n",
    "len(new_arr)\n",
    "new_arr = np.array(new_arr)\n",
    "for pred, true in zip(preds, dev_batches[1]):\n",
    "    print(classification_report(preds[pred], true))"
   ]
  },
  {
   "cell_type": "code",
   "execution_count": null,
   "metadata": {},
   "outputs": [],
   "source": []
  }
 ],
 "metadata": {
  "kernelspec": {
   "display_name": "Python 3",
   "language": "python",
   "name": "python3"
  },
  "language_info": {
   "codemirror_mode": {
    "name": "ipython",
    "version": 3
   },
   "file_extension": ".py",
   "mimetype": "text/x-python",
   "name": "python",
   "nbconvert_exporter": "python",
   "pygments_lexer": "ipython3",
   "version": "3.8.3"
  }
 },
 "nbformat": 4,
 "nbformat_minor": 4
}
